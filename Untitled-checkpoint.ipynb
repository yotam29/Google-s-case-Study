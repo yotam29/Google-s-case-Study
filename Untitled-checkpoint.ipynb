{
 "cells": [
  {
   "cell_type": "markdown",
   "id": "830b2331",
   "metadata": {},
   "source": [
    "# <span style=\"color: blue;\" >Yotam Balbul</span> \n",
    "### <span style=\"color: #6495ED;\"> Google's case Study: How Does a Bike-Share Navigate Speedy Success?</span>\n",
    "\n",
    "##### <span style=\"color: #6495ED;\"> date: July 7th, 2023;  Language: R </span>\n"
   ]
  },
  {
   "cell_type": "markdown",
   "id": "375e7db4",
   "metadata": {},
   "source": [
    "## Scenario\n",
    "You are a junior data analyst working in the marketing analyst team at Cyclistic, a bike-share company in Chicago. The director\n",
    "of marketing believes the company’s future success depends on maximizing the number of annual memberships. Therefore,\n",
    "your team wants to understand how casual riders and annual members use Cyclistic bikes differently. From these insights,\n",
    "your team will design a new marketing strategy to convert casual riders into annual members. But first, Cyclistic executives\n",
    "must approve your recommendations, so they must be backed up with compelling data insights and professional data\n",
    "visualizations."
   ]
  },
  {
   "cell_type": "markdown",
   "id": "d505c3ec",
   "metadata": {},
   "source": [
    "## About the company\n",
    "In 2016, Cyclistic launched a successful bike-share offering. Since then, the program has grown to a fleet of 5,824 bicycles that\n",
    "are geotracked and locked into a network of 692 stations across Chicago. The bikes can be unlocked from one station and\n",
    "returned to any other station in the system anytime.\n",
    "Until now, Cyclistic’s marketing strategy relied on building general awareness and appealing to broad consumer segments.\n",
    "One approach that helped make these things possible was the flexibility of its pricing plans: single-ride passes, full-day passes,\n",
    "and annual memberships. Customers who purchase single-ride or full-day passes are referred to as casual riders. Customers\n",
    "who purchase annual memberships are Cyclistic members.\n",
    "Cyclistic’s finance analysts have concluded that annual members are much more profitable than casual riders. Although the\n",
    "pricing flexibility helps Cyclistic attract more customers, Moreno believes that maximizing the number of annual members will\n",
    "be key to future growth. Rather than creating a marketing campaign that targets all-new customers, Moreno believes there is a\n",
    "very good chance to convert casual riders into members. She notes that casual riders are already aware of the Cyclistic\n",
    "program and have chosen Cyclistic for their mobility needs.\n",
    "Moreno has set a clear goal: Design marketing strategies aimed at converting casual riders into annual members. In order to\n",
    "do that, however, the marketing analyst team needs to better understand how annual members and casual riders differ, why\n",
    "casual riders would buy a membership, and how digital media could affect their marketing tactics. Moreno and her team are\n",
    "interested in analyzing the Cyclistic historical bike trip data to identify trends."
   ]
  },
  {
   "cell_type": "markdown",
   "id": "f4c7fced",
   "metadata": {},
   "source": [
    "## Identify the business task\n",
    "\n",
    "This analysis aims to understand the differences in bike usage patterns between annual members and casual riders of Cyclistic, a bike-share company in Chicago. By analyzing historical bike trip data, we aim to identify these two user groups' distinct behaviors and preferences. The insights gained from this analysis will report the development of targeted marketing strategies to convert casual riders into annual members. Eventually, the aim is to maximize the number of annual memberships and drive the future growth of Cyclistic.\n",
    "\n",
    "## Key Stakeholders:\n",
    "* Lily Moreno - Director of Marketing: As the marketing team manager, Lily Moreno is responsible for overseeing the development of campaigns and initiatives to promote the bike-share program. She is the main driver behind the objective of converting casual riders into annual members and will play a crucial role in implementing the recommended marketing strategies.\n",
    "* Cyclistic Marketing Analytics Team: This team of data analysts is responsible for collecting, analyzing, and reporting data that guides Cyclistic's marketing strategy. They will directly analyze the bike trip data and derive insights to support the marketing initiatives.\n",
    "* Cyclistic Executive Team: The executive team holds the decision-making authority and will ultimately approve or reject the recommended marketing program. They are known for their attention to detail and will closely evaluate the data insights and visualizations presented by the marketing analytics team.\n",
    "* Cyclistic Customers: The customers of Cyclistic, including annual members and casual riders, are essential stakeholders in this business task. Understanding their usage patterns and preferences will help tailor marketing strategies that resonate with their needs and motivations.\n",
    "* Finance Department: The finance department, although not instantly involved in this analysis, has a vested interest in the success of the marketing strategies. They have determined that annual members are more profitable than casual riders, and therefore, this analysis's outcome will impact the company's financial performance.\n",
    "By addressing the needs and interests of these key stakeholders, we can ensure that the analysis and resulting recommendations are well-aligned with the overall objectives of Cyclistic."
   ]
  },
  {
   "cell_type": "markdown",
   "id": "b5273f00",
   "metadata": {},
   "source": [
    "## Data and links\n",
    "I will use Cyclistic’s historical trip data to analyze and identify trends. [Download the previous 12 months of Cyclistic trip data here.](https://divvy-tripdata.s3.amazonaws.com/index.html)\n",
    "\n",
    "I used the past 12 months from April 2020 to March 2021. The data was saved as .csv files\n",
    "\n",
    "I also added two fields:\n",
    "\n",
    "* Ride_length: the length of the ride calculated as ended_at — started_at\n",
    "\n",
    "* day_of_week: the day of the week for started_at\n",
    "\n",
    "Overall the data is ROCCC (R eliable, O riginal, C omprehensive, C urrent, and C ited.) Except for some minor cases when the started_at field was bigger than the ended_at field (which does not make sense). <br>\n",
    "I performed in Excel the following formula to find the errors and cleaning the data:  \n",
    "\n",
    "##### <span style=\"color: red;\"> =IF(started_at>= ended_at, \"Yes\", \"No\") </span>\n"
   ]
  },
  {
   "cell_type": "markdown",
   "id": "0dd6db33",
   "metadata": {},
   "source": [
    "## Packages to install\n",
    "\n",
    "\n"
   ]
  },
  {
   "cell_type": "code",
   "execution_count": 2,
   "id": "bce34603",
   "metadata": {
    "vscode": {
     "languageId": "r"
    }
   },
   "outputs": [
    {
     "name": "stderr",
     "output_type": "stream",
     "text": [
      "Installing packages into 'C:/Users/yotha/AppData/Local/R/win-library/4.3'\n",
      "(as 'lib' is unspecified)\n",
      "\n"
     ]
    },
    {
     "name": "stdout",
     "output_type": "stream",
     "text": [
      "package 'tidyverse' successfully unpacked and MD5 sums checked\n",
      "package 'lubridate' successfully unpacked and MD5 sums checked\n",
      "package 'ggplot2' successfully unpacked and MD5 sums checked\n",
      "package 'dplyr' successfully unpacked and MD5 sums checked\n",
      "package 'tidyr' successfully unpacked and MD5 sums checked\n",
      "package 'readr' successfully unpacked and MD5 sums checked\n",
      "package 'data.table' successfully unpacked and MD5 sums checked\n",
      "\n",
      "The downloaded binary packages are in\n",
      "\tC:\\Users\\yotha\\AppData\\Local\\Temp\\RtmpInN8nS\\downloaded_packages\n"
     ]
    },
    {
     "name": "stderr",
     "output_type": "stream",
     "text": [
      "── \u001b[1mAttaching core tidyverse packages\u001b[22m ──────────────────────────────────────────────────────────────── tidyverse 2.0.0 ──\n",
      "\u001b[32m✔\u001b[39m \u001b[34mdplyr    \u001b[39m 1.1.2     \u001b[32m✔\u001b[39m \u001b[34mreadr    \u001b[39m 2.1.4\n",
      "\u001b[32m✔\u001b[39m \u001b[34mforcats  \u001b[39m 1.0.0     \u001b[32m✔\u001b[39m \u001b[34mstringr  \u001b[39m 1.5.0\n",
      "\u001b[32m✔\u001b[39m \u001b[34mggplot2  \u001b[39m 3.4.2     \u001b[32m✔\u001b[39m \u001b[34mtibble   \u001b[39m 3.2.1\n",
      "\u001b[32m✔\u001b[39m \u001b[34mlubridate\u001b[39m 1.9.2     \u001b[32m✔\u001b[39m \u001b[34mtidyr    \u001b[39m 1.3.0\n",
      "\u001b[32m✔\u001b[39m \u001b[34mpurrr    \u001b[39m 1.0.1     \n",
      "── \u001b[1mConflicts\u001b[22m ────────────────────────────────────────────────────────────────────────────────── tidyverse_conflicts() ──\n",
      "\u001b[31m✖\u001b[39m \u001b[34mdplyr\u001b[39m::\u001b[32mfilter()\u001b[39m masks \u001b[34mstats\u001b[39m::filter()\n",
      "\u001b[31m✖\u001b[39m \u001b[34mdplyr\u001b[39m::\u001b[32mlag()\u001b[39m    masks \u001b[34mstats\u001b[39m::lag()\n",
      "\u001b[36mℹ\u001b[39m Use the conflicted package (\u001b[3m\u001b[34m<http://conflicted.r-lib.org/>\u001b[39m\u001b[23m) to force all conflicts to become errors\n",
      "\n",
      "Attaching package: 'data.table'\n",
      "\n",
      "\n",
      "The following objects are masked from 'package:lubridate':\n",
      "\n",
      "    hour, isoweek, mday, minute, month, quarter, second, wday, week,\n",
      "    yday, year\n",
      "\n",
      "\n",
      "The following objects are masked from 'package:dplyr':\n",
      "\n",
      "    between, first, last\n",
      "\n",
      "\n",
      "The following object is masked from 'package:purrr':\n",
      "\n",
      "    transpose\n",
      "\n",
      "\n"
     ]
    }
   ],
   "source": [
    "install.packages(c(\"tidyverse\", \"lubridate\", \"ggplot2\", \"dplyr\", \"tidyr\", \"readr\", \"data.table\"))\n",
    "# install.packages(\"tidyverse\")\n",
    "# install.packages(\"dplyr\")\n",
    "# install.packages(\"readr\")\n",
    "# install.packages(\"\")\n",
    "# install.packages(\"\")\n",
    "\n",
    "library(tidyverse)    # Data wrangling and visualization powerhouse.\n",
    "library(lubridate)    # Handling and manipulating dates and times.\n",
    "library(ggplot2)      # Creating and customizable data visualizations.\n",
    "library(dplyr)        # Data manipulation and transformation tools.\n",
    "library(tidyr)        # Data tidying and reshaping functions.\n",
    "library(readr)        # Read CSV\n",
    "library(data.table)   # import multiple larger CSV files\n"
   ]
  },
  {
   "cell_type": "markdown",
   "id": "34d1cbd7",
   "metadata": {},
   "source": [
    "Next step is to check the size of the df"
   ]
  },
  {
   "cell_type": "code",
   "execution_count": 3,
   "id": "ad0ea8a6",
   "metadata": {
    "vscode": {
     "languageId": "r"
    }
   },
   "outputs": [],
   "source": [
    "# faster way to read csv\n",
    "# vector of file names\n",
    "csv_files <- c(\"jan_21.csv\", \"feb_21.csv\", \"mar_21.csv\", \"apr_20.csv\", \"may_20.csv\",\"jun_20.csv\",\n",
    "                \"jul_20.csv\", \"aug_20.csv\", \"sep_20.csv\", \"oct_20.csv\", \"nov_20.csv\", \"dec_20.csv\")\n"
   ]
  },
  {
   "cell_type": "markdown",
   "id": "4cf58acc",
   "metadata": {},
   "source": [
    "I want to combine the 12 csv files into one and to make sure we have the same amount ot rows"
   ]
  },
  {
   "cell_type": "code",
   "execution_count": 4,
   "id": "09314c1f",
   "metadata": {
    "vscode": {
     "languageId": "r"
    }
   },
   "outputs": [
    {
     "data": {
      "text/html": [
       "<style>\n",
       ".list-inline {list-style: none; margin:0; padding: 0}\n",
       ".list-inline>li {display: inline-block}\n",
       ".list-inline>li:not(:last-child)::after {content: \"\\00b7\"; padding: 0 .5ex}\n",
       "</style>\n",
       "<ol class=list-inline><li>3489748</li><li>15</li></ol>\n"
      ],
      "text/latex": [
       "\\begin{enumerate*}\n",
       "\\item 3489748\n",
       "\\item 15\n",
       "\\end{enumerate*}\n"
      ],
      "text/markdown": [
       "1. 3489748\n",
       "2. 15\n",
       "\n",
       "\n"
      ],
      "text/plain": [
       "[1] 3489748      15"
      ]
     },
     "metadata": {},
     "output_type": "display_data"
    }
   ],
   "source": [
    "# Read and combine the CSV files using data.table::rbindlist()\n",
    "combined_data <- data.table::rbindlist(\n",
    "  lapply(csv_files, function(file) data.table::fread(file))\n",
    ")\n",
    "\n",
    "# View the combined data\n",
    "dim(combined_data)"
   ]
  },
  {
   "cell_type": "code",
   "execution_count": 5,
   "id": "04755f9c",
   "metadata": {
    "vscode": {
     "languageId": "r"
    }
   },
   "outputs": [
    {
     "data": {
      "text/html": [
       "<style>\n",
       ".list-inline {list-style: none; margin:0; padding: 0}\n",
       ".list-inline>li {display: inline-block}\n",
       ".list-inline>li:not(:last-child)::after {content: \"\\00b7\"; padding: 0 .5ex}\n",
       "</style>\n",
       "<ol class=list-inline><li>'ride_id'</li><li>'rideable_type'</li><li>'started_at'</li><li>'ended_at'</li><li>'start_station_name'</li><li>'start_station_id'</li><li>'end_station_name'</li><li>'end_station_id'</li><li>'start_lat'</li><li>'start_lng'</li><li>'end_lat'</li><li>'end_lng'</li><li>'member_casual'</li><li>'ride_length'</li><li>'day_of_week'</li></ol>\n"
      ],
      "text/latex": [
       "\\begin{enumerate*}\n",
       "\\item 'ride\\_id'\n",
       "\\item 'rideable\\_type'\n",
       "\\item 'started\\_at'\n",
       "\\item 'ended\\_at'\n",
       "\\item 'start\\_station\\_name'\n",
       "\\item 'start\\_station\\_id'\n",
       "\\item 'end\\_station\\_name'\n",
       "\\item 'end\\_station\\_id'\n",
       "\\item 'start\\_lat'\n",
       "\\item 'start\\_lng'\n",
       "\\item 'end\\_lat'\n",
       "\\item 'end\\_lng'\n",
       "\\item 'member\\_casual'\n",
       "\\item 'ride\\_length'\n",
       "\\item 'day\\_of\\_week'\n",
       "\\end{enumerate*}\n"
      ],
      "text/markdown": [
       "1. 'ride_id'\n",
       "2. 'rideable_type'\n",
       "3. 'started_at'\n",
       "4. 'ended_at'\n",
       "5. 'start_station_name'\n",
       "6. 'start_station_id'\n",
       "7. 'end_station_name'\n",
       "8. 'end_station_id'\n",
       "9. 'start_lat'\n",
       "10. 'start_lng'\n",
       "11. 'end_lat'\n",
       "12. 'end_lng'\n",
       "13. 'member_casual'\n",
       "14. 'ride_length'\n",
       "15. 'day_of_week'\n",
       "\n",
       "\n"
      ],
      "text/plain": [
       " [1] \"ride_id\"            \"rideable_type\"      \"started_at\"        \n",
       " [4] \"ended_at\"           \"start_station_name\" \"start_station_id\"  \n",
       " [7] \"end_station_name\"   \"end_station_id\"     \"start_lat\"         \n",
       "[10] \"start_lng\"          \"end_lat\"            \"end_lng\"           \n",
       "[13] \"member_casual\"      \"ride_length\"        \"day_of_week\"       "
      ]
     },
     "metadata": {},
     "output_type": "display_data"
    }
   ],
   "source": [
    "colnames(combined_data)"
   ]
  },
  {
   "cell_type": "markdown",
   "id": "2c41c6fa",
   "metadata": {},
   "source": [
    "Next I will check the null values and what columns have the most. "
   ]
  },
  {
   "cell_type": "code",
   "execution_count": 6,
   "id": "fcad33b1",
   "metadata": {
    "vscode": {
     "languageId": "r"
    }
   },
   "outputs": [
    {
     "data": {
      "text/html": [
       "191163"
      ],
      "text/latex": [
       "191163"
      ],
      "text/markdown": [
       "191163"
      ],
      "text/plain": [
       "[1] 191163"
      ]
     },
     "metadata": {},
     "output_type": "display_data"
    }
   ],
   "source": [
    "sum(is.na(combined_data) )"
   ]
  },
  {
   "cell_type": "markdown",
   "id": "404c5767",
   "metadata": {},
   "source": [
    "next we will check NA values or empty strings "
   ]
  },
  {
   "cell_type": "code",
   "execution_count": 9,
   "id": "0b11e790",
   "metadata": {},
   "outputs": [
    {
     "name": "stdout",
     "output_type": "stream",
     "text": [
      "           ride_id      rideable_type         started_at           ended_at \n",
      "                 0                  0                  0                  0 \n",
      "start_station_name   start_station_id   end_station_name     end_station_id \n",
      "            122175             122801             143242             143703 \n",
      "         start_lat          start_lng            end_lat            end_lng \n",
      "                 0                  0               4738               4738 \n",
      "     member_casual        ride_length        day_of_week \n",
      "                 0                  0                  0 \n"
     ]
    }
   ],
   "source": [
    "# Count empty strings or NA values in the entire table\n",
    "null_or_empty_counts <- colSums(is.na(combined_data) | combined_data == \"\")\n",
    "\n",
    "# View the result\n",
    "print(null_or_empty_counts)"
   ]
  },
  {
   "cell_type": "code",
   "execution_count": 10,
   "id": "b3846273",
   "metadata": {
    "vscode": {
     "languageId": "r"
    }
   },
   "outputs": [],
   "source": [
    "# each data set get is own data frame in case we need to use it.\n",
    "jan21 <-  read.csv(\"jan_21.csv\")\n",
    "feb21 <-  read.csv(\"feb_21.csv\")\n",
    "mar21 <-  read.csv(\"mar_21.csv\")\n",
    "apr20 <-  read.csv(\"apr_20.csv\")\n",
    "may20 <-  read.csv(\"may_20.csv\")\n",
    "jun20 <-  read.csv(\"jun_20.csv\")\n",
    "jul20 <-  read.csv(\"jul_20.csv\")\n",
    "aug20 <-  read.csv(\"aug_20.csv\")\n",
    "sep20 <-  read.csv(\"sep_20.csv\")\n",
    "oct20 <-  read.csv(\"oct_20.csv\")\n",
    "nov20 <-  read.csv(\"nov_20.csv\")\n",
    "dec20 <-  read.csv(\"dec_20.csv\")"
   ]
  },
  {
   "cell_type": "code",
   "execution_count": 11,
   "id": "1e6ebcce",
   "metadata": {
    "scrolled": true,
    "vscode": {
     "languageId": "r"
    }
   },
   "outputs": [
    {
     "data": {
      "text/html": [
       "<style>\n",
       ".dl-inline {width: auto; margin:0; padding: 0}\n",
       ".dl-inline>dt, .dl-inline>dd {float: none; width: auto; display: inline-block}\n",
       ".dl-inline>dt::after {content: \":\\0020\"; padding-right: .5ex}\n",
       ".dl-inline>dt:not(:first-of-type) {padding-left: .5ex}\n",
       "</style><dl class=dl-inline><dt>ride_id</dt><dd>0</dd><dt>rideable_type</dt><dd>0</dd><dt>started_at</dt><dd>0</dd><dt>ended_at</dt><dd>0</dd><dt>start_station_name</dt><dd>0</dd><dt>start_station_id</dt><dd>0</dd><dt>end_station_name</dt><dd>0</dd><dt>end_station_id</dt><dd>0</dd><dt>start_lat</dt><dd>0</dd><dt>start_lng</dt><dd>0</dd><dt>end_lat</dt><dd>103</dd><dt>end_lng</dt><dd>103</dd><dt>member_casual</dt><dd>0</dd><dt>ride_length</dt><dd>0</dd><dt>day_of_week</dt><dd>0</dd></dl>\n"
      ],
      "text/latex": [
       "\\begin{description*}\n",
       "\\item[ride\\textbackslash{}\\_id] 0\n",
       "\\item[rideable\\textbackslash{}\\_type] 0\n",
       "\\item[started\\textbackslash{}\\_at] 0\n",
       "\\item[ended\\textbackslash{}\\_at] 0\n",
       "\\item[start\\textbackslash{}\\_station\\textbackslash{}\\_name] 0\n",
       "\\item[start\\textbackslash{}\\_station\\textbackslash{}\\_id] 0\n",
       "\\item[end\\textbackslash{}\\_station\\textbackslash{}\\_name] 0\n",
       "\\item[end\\textbackslash{}\\_station\\textbackslash{}\\_id] 0\n",
       "\\item[start\\textbackslash{}\\_lat] 0\n",
       "\\item[start\\textbackslash{}\\_lng] 0\n",
       "\\item[end\\textbackslash{}\\_lat] 103\n",
       "\\item[end\\textbackslash{}\\_lng] 103\n",
       "\\item[member\\textbackslash{}\\_casual] 0\n",
       "\\item[ride\\textbackslash{}\\_length] 0\n",
       "\\item[day\\textbackslash{}\\_of\\textbackslash{}\\_week] 0\n",
       "\\end{description*}\n"
      ],
      "text/markdown": [
       "ride_id\n",
       ":   0rideable_type\n",
       ":   0started_at\n",
       ":   0ended_at\n",
       ":   0start_station_name\n",
       ":   0start_station_id\n",
       ":   0end_station_name\n",
       ":   0end_station_id\n",
       ":   0start_lat\n",
       ":   0start_lng\n",
       ":   0end_lat\n",
       ":   103end_lng\n",
       ":   103member_casual\n",
       ":   0ride_length\n",
       ":   0day_of_week\n",
       ":   0\n",
       "\n"
      ],
      "text/plain": [
       "           ride_id      rideable_type         started_at           ended_at \n",
       "                 0                  0                  0                  0 \n",
       "start_station_name   start_station_id   end_station_name     end_station_id \n",
       "                 0                  0                  0                  0 \n",
       "         start_lat          start_lng            end_lat            end_lng \n",
       "                 0                  0                103                103 \n",
       "     member_casual        ride_length        day_of_week \n",
       "                 0                  0                  0 "
      ]
     },
     "metadata": {},
     "output_type": "display_data"
    },
    {
     "data": {
      "text/html": [
       "<style>\n",
       ".dl-inline {width: auto; margin:0; padding: 0}\n",
       ".dl-inline>dt, .dl-inline>dd {float: none; width: auto; display: inline-block}\n",
       ".dl-inline>dt::after {content: \":\\0020\"; padding-right: .5ex}\n",
       ".dl-inline>dt:not(:first-of-type) {padding-left: .5ex}\n",
       "</style><dl class=dl-inline><dt>ride_id</dt><dd>0</dd><dt>rideable_type</dt><dd>0</dd><dt>started_at</dt><dd>0</dd><dt>ended_at</dt><dd>0</dd><dt>start_station_name</dt><dd>0</dd><dt>start_station_id</dt><dd>0</dd><dt>end_station_name</dt><dd>0</dd><dt>end_station_id</dt><dd>0</dd><dt>start_lat</dt><dd>0</dd><dt>start_lng</dt><dd>0</dd><dt>end_lat</dt><dd>214</dd><dt>end_lng</dt><dd>214</dd><dt>member_casual</dt><dd>0</dd><dt>ride_length</dt><dd>0</dd><dt>day_of_week</dt><dd>0</dd></dl>\n"
      ],
      "text/latex": [
       "\\begin{description*}\n",
       "\\item[ride\\textbackslash{}\\_id] 0\n",
       "\\item[rideable\\textbackslash{}\\_type] 0\n",
       "\\item[started\\textbackslash{}\\_at] 0\n",
       "\\item[ended\\textbackslash{}\\_at] 0\n",
       "\\item[start\\textbackslash{}\\_station\\textbackslash{}\\_name] 0\n",
       "\\item[start\\textbackslash{}\\_station\\textbackslash{}\\_id] 0\n",
       "\\item[end\\textbackslash{}\\_station\\textbackslash{}\\_name] 0\n",
       "\\item[end\\textbackslash{}\\_station\\textbackslash{}\\_id] 0\n",
       "\\item[start\\textbackslash{}\\_lat] 0\n",
       "\\item[start\\textbackslash{}\\_lng] 0\n",
       "\\item[end\\textbackslash{}\\_lat] 214\n",
       "\\item[end\\textbackslash{}\\_lng] 214\n",
       "\\item[member\\textbackslash{}\\_casual] 0\n",
       "\\item[ride\\textbackslash{}\\_length] 0\n",
       "\\item[day\\textbackslash{}\\_of\\textbackslash{}\\_week] 0\n",
       "\\end{description*}\n"
      ],
      "text/markdown": [
       "ride_id\n",
       ":   0rideable_type\n",
       ":   0started_at\n",
       ":   0ended_at\n",
       ":   0start_station_name\n",
       ":   0start_station_id\n",
       ":   0end_station_name\n",
       ":   0end_station_id\n",
       ":   0start_lat\n",
       ":   0start_lng\n",
       ":   0end_lat\n",
       ":   214end_lng\n",
       ":   214member_casual\n",
       ":   0ride_length\n",
       ":   0day_of_week\n",
       ":   0\n",
       "\n"
      ],
      "text/plain": [
       "           ride_id      rideable_type         started_at           ended_at \n",
       "                 0                  0                  0                  0 \n",
       "start_station_name   start_station_id   end_station_name     end_station_id \n",
       "                 0                  0                  0                  0 \n",
       "         start_lat          start_lng            end_lat            end_lng \n",
       "                 0                  0                214                214 \n",
       "     member_casual        ride_length        day_of_week \n",
       "                 0                  0                  0 "
      ]
     },
     "metadata": {},
     "output_type": "display_data"
    },
    {
     "data": {
      "text/html": [
       "<style>\n",
       ".dl-inline {width: auto; margin:0; padding: 0}\n",
       ".dl-inline>dt, .dl-inline>dd {float: none; width: auto; display: inline-block}\n",
       ".dl-inline>dt::after {content: \":\\0020\"; padding-right: .5ex}\n",
       ".dl-inline>dt:not(:first-of-type) {padding-left: .5ex}\n",
       "</style><dl class=dl-inline><dt>ride_id</dt><dd>0</dd><dt>rideable_type</dt><dd>0</dd><dt>started_at</dt><dd>0</dd><dt>ended_at</dt><dd>0</dd><dt>start_station_name</dt><dd>0</dd><dt>start_station_id</dt><dd>0</dd><dt>end_station_name</dt><dd>0</dd><dt>end_station_id</dt><dd>0</dd><dt>start_lat</dt><dd>0</dd><dt>start_lng</dt><dd>0</dd><dt>end_lat</dt><dd>167</dd><dt>end_lng</dt><dd>167</dd><dt>member_casual</dt><dd>0</dd><dt>ride_length</dt><dd>0</dd><dt>day_of_week</dt><dd>0</dd></dl>\n"
      ],
      "text/latex": [
       "\\begin{description*}\n",
       "\\item[ride\\textbackslash{}\\_id] 0\n",
       "\\item[rideable\\textbackslash{}\\_type] 0\n",
       "\\item[started\\textbackslash{}\\_at] 0\n",
       "\\item[ended\\textbackslash{}\\_at] 0\n",
       "\\item[start\\textbackslash{}\\_station\\textbackslash{}\\_name] 0\n",
       "\\item[start\\textbackslash{}\\_station\\textbackslash{}\\_id] 0\n",
       "\\item[end\\textbackslash{}\\_station\\textbackslash{}\\_name] 0\n",
       "\\item[end\\textbackslash{}\\_station\\textbackslash{}\\_id] 0\n",
       "\\item[start\\textbackslash{}\\_lat] 0\n",
       "\\item[start\\textbackslash{}\\_lng] 0\n",
       "\\item[end\\textbackslash{}\\_lat] 167\n",
       "\\item[end\\textbackslash{}\\_lng] 167\n",
       "\\item[member\\textbackslash{}\\_casual] 0\n",
       "\\item[ride\\textbackslash{}\\_length] 0\n",
       "\\item[day\\textbackslash{}\\_of\\textbackslash{}\\_week] 0\n",
       "\\end{description*}\n"
      ],
      "text/markdown": [
       "ride_id\n",
       ":   0rideable_type\n",
       ":   0started_at\n",
       ":   0ended_at\n",
       ":   0start_station_name\n",
       ":   0start_station_id\n",
       ":   0end_station_name\n",
       ":   0end_station_id\n",
       ":   0start_lat\n",
       ":   0start_lng\n",
       ":   0end_lat\n",
       ":   167end_lng\n",
       ":   167member_casual\n",
       ":   0ride_length\n",
       ":   0day_of_week\n",
       ":   0\n",
       "\n"
      ],
      "text/plain": [
       "           ride_id      rideable_type         started_at           ended_at \n",
       "                 0                  0                  0                  0 \n",
       "start_station_name   start_station_id   end_station_name     end_station_id \n",
       "                 0                  0                  0                  0 \n",
       "         start_lat          start_lng            end_lat            end_lng \n",
       "                 0                  0                167                167 \n",
       "     member_casual        ride_length        day_of_week \n",
       "                 0                  0                  0 "
      ]
     },
     "metadata": {},
     "output_type": "display_data"
    },
    {
     "data": {
      "text/html": [
       "<style>\n",
       ".dl-inline {width: auto; margin:0; padding: 0}\n",
       ".dl-inline>dt, .dl-inline>dd {float: none; width: auto; display: inline-block}\n",
       ".dl-inline>dt::after {content: \":\\0020\"; padding-right: .5ex}\n",
       ".dl-inline>dt:not(:first-of-type) {padding-left: .5ex}\n",
       "</style><dl class=dl-inline><dt>ride_id</dt><dd>0</dd><dt>rideable_type</dt><dd>0</dd><dt>started_at</dt><dd>0</dd><dt>ended_at</dt><dd>0</dd><dt>start_station_name</dt><dd>0</dd><dt>start_station_id</dt><dd>0</dd><dt>end_station_name</dt><dd>0</dd><dt>end_station_id</dt><dd>99</dd><dt>start_lat</dt><dd>0</dd><dt>start_lng</dt><dd>0</dd><dt>end_lat</dt><dd>99</dd><dt>end_lng</dt><dd>99</dd><dt>member_casual</dt><dd>0</dd><dt>ride_length</dt><dd>0</dd><dt>day_of_week</dt><dd>0</dd></dl>\n"
      ],
      "text/latex": [
       "\\begin{description*}\n",
       "\\item[ride\\textbackslash{}\\_id] 0\n",
       "\\item[rideable\\textbackslash{}\\_type] 0\n",
       "\\item[started\\textbackslash{}\\_at] 0\n",
       "\\item[ended\\textbackslash{}\\_at] 0\n",
       "\\item[start\\textbackslash{}\\_station\\textbackslash{}\\_name] 0\n",
       "\\item[start\\textbackslash{}\\_station\\textbackslash{}\\_id] 0\n",
       "\\item[end\\textbackslash{}\\_station\\textbackslash{}\\_name] 0\n",
       "\\item[end\\textbackslash{}\\_station\\textbackslash{}\\_id] 99\n",
       "\\item[start\\textbackslash{}\\_lat] 0\n",
       "\\item[start\\textbackslash{}\\_lng] 0\n",
       "\\item[end\\textbackslash{}\\_lat] 99\n",
       "\\item[end\\textbackslash{}\\_lng] 99\n",
       "\\item[member\\textbackslash{}\\_casual] 0\n",
       "\\item[ride\\textbackslash{}\\_length] 0\n",
       "\\item[day\\textbackslash{}\\_of\\textbackslash{}\\_week] 0\n",
       "\\end{description*}\n"
      ],
      "text/markdown": [
       "ride_id\n",
       ":   0rideable_type\n",
       ":   0started_at\n",
       ":   0ended_at\n",
       ":   0start_station_name\n",
       ":   0start_station_id\n",
       ":   0end_station_name\n",
       ":   0end_station_id\n",
       ":   99start_lat\n",
       ":   0start_lng\n",
       ":   0end_lat\n",
       ":   99end_lng\n",
       ":   99member_casual\n",
       ":   0ride_length\n",
       ":   0day_of_week\n",
       ":   0\n",
       "\n"
      ],
      "text/plain": [
       "           ride_id      rideable_type         started_at           ended_at \n",
       "                 0                  0                  0                  0 \n",
       "start_station_name   start_station_id   end_station_name     end_station_id \n",
       "                 0                  0                  0                 99 \n",
       "         start_lat          start_lng            end_lat            end_lng \n",
       "                 0                  0                 99                 99 \n",
       "     member_casual        ride_length        day_of_week \n",
       "                 0                  0                  0 "
      ]
     },
     "metadata": {},
     "output_type": "display_data"
    },
    {
     "data": {
      "text/html": [
       "<style>\n",
       ".dl-inline {width: auto; margin:0; padding: 0}\n",
       ".dl-inline>dt, .dl-inline>dd {float: none; width: auto; display: inline-block}\n",
       ".dl-inline>dt::after {content: \":\\0020\"; padding-right: .5ex}\n",
       ".dl-inline>dt:not(:first-of-type) {padding-left: .5ex}\n",
       "</style><dl class=dl-inline><dt>ride_id</dt><dd>0</dd><dt>rideable_type</dt><dd>0</dd><dt>started_at</dt><dd>0</dd><dt>ended_at</dt><dd>0</dd><dt>start_station_name</dt><dd>0</dd><dt>start_station_id</dt><dd>0</dd><dt>end_station_name</dt><dd>0</dd><dt>end_station_id</dt><dd>321</dd><dt>start_lat</dt><dd>0</dd><dt>start_lng</dt><dd>0</dd><dt>end_lat</dt><dd>321</dd><dt>end_lng</dt><dd>321</dd><dt>member_casual</dt><dd>0</dd><dt>ride_length</dt><dd>0</dd><dt>day_of_week</dt><dd>0</dd></dl>\n"
      ],
      "text/latex": [
       "\\begin{description*}\n",
       "\\item[ride\\textbackslash{}\\_id] 0\n",
       "\\item[rideable\\textbackslash{}\\_type] 0\n",
       "\\item[started\\textbackslash{}\\_at] 0\n",
       "\\item[ended\\textbackslash{}\\_at] 0\n",
       "\\item[start\\textbackslash{}\\_station\\textbackslash{}\\_name] 0\n",
       "\\item[start\\textbackslash{}\\_station\\textbackslash{}\\_id] 0\n",
       "\\item[end\\textbackslash{}\\_station\\textbackslash{}\\_name] 0\n",
       "\\item[end\\textbackslash{}\\_station\\textbackslash{}\\_id] 321\n",
       "\\item[start\\textbackslash{}\\_lat] 0\n",
       "\\item[start\\textbackslash{}\\_lng] 0\n",
       "\\item[end\\textbackslash{}\\_lat] 321\n",
       "\\item[end\\textbackslash{}\\_lng] 321\n",
       "\\item[member\\textbackslash{}\\_casual] 0\n",
       "\\item[ride\\textbackslash{}\\_length] 0\n",
       "\\item[day\\textbackslash{}\\_of\\textbackslash{}\\_week] 0\n",
       "\\end{description*}\n"
      ],
      "text/markdown": [
       "ride_id\n",
       ":   0rideable_type\n",
       ":   0started_at\n",
       ":   0ended_at\n",
       ":   0start_station_name\n",
       ":   0start_station_id\n",
       ":   0end_station_name\n",
       ":   0end_station_id\n",
       ":   321start_lat\n",
       ":   0start_lng\n",
       ":   0end_lat\n",
       ":   321end_lng\n",
       ":   321member_casual\n",
       ":   0ride_length\n",
       ":   0day_of_week\n",
       ":   0\n",
       "\n"
      ],
      "text/plain": [
       "           ride_id      rideable_type         started_at           ended_at \n",
       "                 0                  0                  0                  0 \n",
       "start_station_name   start_station_id   end_station_name     end_station_id \n",
       "                 0                  0                  0                321 \n",
       "         start_lat          start_lng            end_lat            end_lng \n",
       "                 0                  0                321                321 \n",
       "     member_casual        ride_length        day_of_week \n",
       "                 0                  0                  0 "
      ]
     },
     "metadata": {},
     "output_type": "display_data"
    },
    {
     "data": {
      "text/html": [
       "<style>\n",
       ".dl-inline {width: auto; margin:0; padding: 0}\n",
       ".dl-inline>dt, .dl-inline>dd {float: none; width: auto; display: inline-block}\n",
       ".dl-inline>dt::after {content: \":\\0020\"; padding-right: .5ex}\n",
       ".dl-inline>dt:not(:first-of-type) {padding-left: .5ex}\n",
       "</style><dl class=dl-inline><dt>ride_id</dt><dd>0</dd><dt>rideable_type</dt><dd>0</dd><dt>started_at</dt><dd>0</dd><dt>ended_at</dt><dd>0</dd><dt>start_station_name</dt><dd>0</dd><dt>start_station_id</dt><dd>0</dd><dt>end_station_name</dt><dd>0</dd><dt>end_station_id</dt><dd>468</dd><dt>start_lat</dt><dd>0</dd><dt>start_lng</dt><dd>0</dd><dt>end_lat</dt><dd>468</dd><dt>end_lng</dt><dd>468</dd><dt>member_casual</dt><dd>0</dd><dt>ride_length</dt><dd>0</dd><dt>day_of_week</dt><dd>0</dd></dl>\n"
      ],
      "text/latex": [
       "\\begin{description*}\n",
       "\\item[ride\\textbackslash{}\\_id] 0\n",
       "\\item[rideable\\textbackslash{}\\_type] 0\n",
       "\\item[started\\textbackslash{}\\_at] 0\n",
       "\\item[ended\\textbackslash{}\\_at] 0\n",
       "\\item[start\\textbackslash{}\\_station\\textbackslash{}\\_name] 0\n",
       "\\item[start\\textbackslash{}\\_station\\textbackslash{}\\_id] 0\n",
       "\\item[end\\textbackslash{}\\_station\\textbackslash{}\\_name] 0\n",
       "\\item[end\\textbackslash{}\\_station\\textbackslash{}\\_id] 468\n",
       "\\item[start\\textbackslash{}\\_lat] 0\n",
       "\\item[start\\textbackslash{}\\_lng] 0\n",
       "\\item[end\\textbackslash{}\\_lat] 468\n",
       "\\item[end\\textbackslash{}\\_lng] 468\n",
       "\\item[member\\textbackslash{}\\_casual] 0\n",
       "\\item[ride\\textbackslash{}\\_length] 0\n",
       "\\item[day\\textbackslash{}\\_of\\textbackslash{}\\_week] 0\n",
       "\\end{description*}\n"
      ],
      "text/markdown": [
       "ride_id\n",
       ":   0rideable_type\n",
       ":   0started_at\n",
       ":   0ended_at\n",
       ":   0start_station_name\n",
       ":   0start_station_id\n",
       ":   0end_station_name\n",
       ":   0end_station_id\n",
       ":   468start_lat\n",
       ":   0start_lng\n",
       ":   0end_lat\n",
       ":   468end_lng\n",
       ":   468member_casual\n",
       ":   0ride_length\n",
       ":   0day_of_week\n",
       ":   0\n",
       "\n"
      ],
      "text/plain": [
       "           ride_id      rideable_type         started_at           ended_at \n",
       "                 0                  0                  0                  0 \n",
       "start_station_name   start_station_id   end_station_name     end_station_id \n",
       "                 0                  0                  0                468 \n",
       "         start_lat          start_lng            end_lat            end_lng \n",
       "                 0                  0                468                468 \n",
       "     member_casual        ride_length        day_of_week \n",
       "                 0                  0                  0 "
      ]
     },
     "metadata": {},
     "output_type": "display_data"
    },
    {
     "data": {
      "text/html": [
       "<style>\n",
       ".dl-inline {width: auto; margin:0; padding: 0}\n",
       ".dl-inline>dt, .dl-inline>dd {float: none; width: auto; display: inline-block}\n",
       ".dl-inline>dt::after {content: \":\\0020\"; padding-right: .5ex}\n",
       ".dl-inline>dt:not(:first-of-type) {padding-left: .5ex}\n",
       "</style><dl class=dl-inline><dt>ride_id</dt><dd>0</dd><dt>rideable_type</dt><dd>0</dd><dt>started_at</dt><dd>0</dd><dt>ended_at</dt><dd>0</dd><dt>start_station_name</dt><dd>0</dd><dt>start_station_id</dt><dd>152</dd><dt>end_station_name</dt><dd>0</dd><dt>end_station_id</dt><dd>969</dd><dt>start_lat</dt><dd>0</dd><dt>start_lng</dt><dd>0</dd><dt>end_lat</dt><dd>770</dd><dt>end_lng</dt><dd>770</dd><dt>member_casual</dt><dd>0</dd><dt>ride_length</dt><dd>0</dd><dt>day_of_week</dt><dd>0</dd></dl>\n"
      ],
      "text/latex": [
       "\\begin{description*}\n",
       "\\item[ride\\textbackslash{}\\_id] 0\n",
       "\\item[rideable\\textbackslash{}\\_type] 0\n",
       "\\item[started\\textbackslash{}\\_at] 0\n",
       "\\item[ended\\textbackslash{}\\_at] 0\n",
       "\\item[start\\textbackslash{}\\_station\\textbackslash{}\\_name] 0\n",
       "\\item[start\\textbackslash{}\\_station\\textbackslash{}\\_id] 152\n",
       "\\item[end\\textbackslash{}\\_station\\textbackslash{}\\_name] 0\n",
       "\\item[end\\textbackslash{}\\_station\\textbackslash{}\\_id] 969\n",
       "\\item[start\\textbackslash{}\\_lat] 0\n",
       "\\item[start\\textbackslash{}\\_lng] 0\n",
       "\\item[end\\textbackslash{}\\_lat] 770\n",
       "\\item[end\\textbackslash{}\\_lng] 770\n",
       "\\item[member\\textbackslash{}\\_casual] 0\n",
       "\\item[ride\\textbackslash{}\\_length] 0\n",
       "\\item[day\\textbackslash{}\\_of\\textbackslash{}\\_week] 0\n",
       "\\end{description*}\n"
      ],
      "text/markdown": [
       "ride_id\n",
       ":   0rideable_type\n",
       ":   0started_at\n",
       ":   0ended_at\n",
       ":   0start_station_name\n",
       ":   0start_station_id\n",
       ":   152end_station_name\n",
       ":   0end_station_id\n",
       ":   969start_lat\n",
       ":   0start_lng\n",
       ":   0end_lat\n",
       ":   770end_lng\n",
       ":   770member_casual\n",
       ":   0ride_length\n",
       ":   0day_of_week\n",
       ":   0\n",
       "\n"
      ],
      "text/plain": [
       "           ride_id      rideable_type         started_at           ended_at \n",
       "                 0                  0                  0                  0 \n",
       "start_station_name   start_station_id   end_station_name     end_station_id \n",
       "                 0                152                  0                969 \n",
       "         start_lat          start_lng            end_lat            end_lng \n",
       "                 0                  0                770                770 \n",
       "     member_casual        ride_length        day_of_week \n",
       "                 0                  0                  0 "
      ]
     },
     "metadata": {},
     "output_type": "display_data"
    },
    {
     "data": {
      "text/html": [
       "<style>\n",
       ".dl-inline {width: auto; margin:0; padding: 0}\n",
       ".dl-inline>dt, .dl-inline>dd {float: none; width: auto; display: inline-block}\n",
       ".dl-inline>dt::after {content: \":\\0020\"; padding-right: .5ex}\n",
       ".dl-inline>dt:not(:first-of-type) {padding-left: .5ex}\n",
       "</style><dl class=dl-inline><dt>ride_id</dt><dd>0</dd><dt>rideable_type</dt><dd>0</dd><dt>started_at</dt><dd>0</dd><dt>ended_at</dt><dd>0</dd><dt>start_station_name</dt><dd>0</dd><dt>start_station_id</dt><dd>7691</dd><dt>end_station_name</dt><dd>0</dd><dt>end_station_id</dt><dd>10110</dd><dt>start_lat</dt><dd>0</dd><dt>start_lng</dt><dd>0</dd><dt>end_lat</dt><dd>938</dd><dt>end_lng</dt><dd>938</dd><dt>member_casual</dt><dd>0</dd><dt>ride_length</dt><dd>0</dd><dt>day_of_week</dt><dd>0</dd></dl>\n"
      ],
      "text/latex": [
       "\\begin{description*}\n",
       "\\item[ride\\textbackslash{}\\_id] 0\n",
       "\\item[rideable\\textbackslash{}\\_type] 0\n",
       "\\item[started\\textbackslash{}\\_at] 0\n",
       "\\item[ended\\textbackslash{}\\_at] 0\n",
       "\\item[start\\textbackslash{}\\_station\\textbackslash{}\\_name] 0\n",
       "\\item[start\\textbackslash{}\\_station\\textbackslash{}\\_id] 7691\n",
       "\\item[end\\textbackslash{}\\_station\\textbackslash{}\\_name] 0\n",
       "\\item[end\\textbackslash{}\\_station\\textbackslash{}\\_id] 10110\n",
       "\\item[start\\textbackslash{}\\_lat] 0\n",
       "\\item[start\\textbackslash{}\\_lng] 0\n",
       "\\item[end\\textbackslash{}\\_lat] 938\n",
       "\\item[end\\textbackslash{}\\_lng] 938\n",
       "\\item[member\\textbackslash{}\\_casual] 0\n",
       "\\item[ride\\textbackslash{}\\_length] 0\n",
       "\\item[day\\textbackslash{}\\_of\\textbackslash{}\\_week] 0\n",
       "\\end{description*}\n"
      ],
      "text/markdown": [
       "ride_id\n",
       ":   0rideable_type\n",
       ":   0started_at\n",
       ":   0ended_at\n",
       ":   0start_station_name\n",
       ":   0start_station_id\n",
       ":   7691end_station_name\n",
       ":   0end_station_id\n",
       ":   10110start_lat\n",
       ":   0start_lng\n",
       ":   0end_lat\n",
       ":   938end_lng\n",
       ":   938member_casual\n",
       ":   0ride_length\n",
       ":   0day_of_week\n",
       ":   0\n",
       "\n"
      ],
      "text/plain": [
       "           ride_id      rideable_type         started_at           ended_at \n",
       "                 0                  0                  0                  0 \n",
       "start_station_name   start_station_id   end_station_name     end_station_id \n",
       "                 0               7691                  0              10110 \n",
       "         start_lat          start_lng            end_lat            end_lng \n",
       "                 0                  0                938                938 \n",
       "     member_casual        ride_length        day_of_week \n",
       "                 0                  0                  0 "
      ]
     },
     "metadata": {},
     "output_type": "display_data"
    },
    {
     "data": {
      "text/html": [
       "<style>\n",
       ".dl-inline {width: auto; margin:0; padding: 0}\n",
       ".dl-inline>dt, .dl-inline>dd {float: none; width: auto; display: inline-block}\n",
       ".dl-inline>dt::after {content: \":\\0020\"; padding-right: .5ex}\n",
       ".dl-inline>dt:not(:first-of-type) {padding-left: .5ex}\n",
       "</style><dl class=dl-inline><dt>ride_id</dt><dd>0</dd><dt>rideable_type</dt><dd>0</dd><dt>started_at</dt><dd>0</dd><dt>ended_at</dt><dd>0</dd><dt>start_station_name</dt><dd>0</dd><dt>start_station_id</dt><dd>19901</dd><dt>end_station_name</dt><dd>0</dd><dt>end_station_id</dt><dd>23524</dd><dt>start_lat</dt><dd>0</dd><dt>start_lng</dt><dd>0</dd><dt>end_lat</dt><dd>789</dd><dt>end_lng</dt><dd>789</dd><dt>member_casual</dt><dd>0</dd><dt>ride_length</dt><dd>0</dd><dt>day_of_week</dt><dd>0</dd></dl>\n"
      ],
      "text/latex": [
       "\\begin{description*}\n",
       "\\item[ride\\textbackslash{}\\_id] 0\n",
       "\\item[rideable\\textbackslash{}\\_type] 0\n",
       "\\item[started\\textbackslash{}\\_at] 0\n",
       "\\item[ended\\textbackslash{}\\_at] 0\n",
       "\\item[start\\textbackslash{}\\_station\\textbackslash{}\\_name] 0\n",
       "\\item[start\\textbackslash{}\\_station\\textbackslash{}\\_id] 19901\n",
       "\\item[end\\textbackslash{}\\_station\\textbackslash{}\\_name] 0\n",
       "\\item[end\\textbackslash{}\\_station\\textbackslash{}\\_id] 23524\n",
       "\\item[start\\textbackslash{}\\_lat] 0\n",
       "\\item[start\\textbackslash{}\\_lng] 0\n",
       "\\item[end\\textbackslash{}\\_lat] 789\n",
       "\\item[end\\textbackslash{}\\_lng] 789\n",
       "\\item[member\\textbackslash{}\\_casual] 0\n",
       "\\item[ride\\textbackslash{}\\_length] 0\n",
       "\\item[day\\textbackslash{}\\_of\\textbackslash{}\\_week] 0\n",
       "\\end{description*}\n"
      ],
      "text/markdown": [
       "ride_id\n",
       ":   0rideable_type\n",
       ":   0started_at\n",
       ":   0ended_at\n",
       ":   0start_station_name\n",
       ":   0start_station_id\n",
       ":   19901end_station_name\n",
       ":   0end_station_id\n",
       ":   23524start_lat\n",
       ":   0start_lng\n",
       ":   0end_lat\n",
       ":   789end_lng\n",
       ":   789member_casual\n",
       ":   0ride_length\n",
       ":   0day_of_week\n",
       ":   0\n",
       "\n"
      ],
      "text/plain": [
       "           ride_id      rideable_type         started_at           ended_at \n",
       "                 0                  0                  0                  0 \n",
       "start_station_name   start_station_id   end_station_name     end_station_id \n",
       "                 0              19901                  0              23524 \n",
       "         start_lat          start_lng            end_lat            end_lng \n",
       "                 0                  0                789                789 \n",
       "     member_casual        ride_length        day_of_week \n",
       "                 0                  0                  0 "
      ]
     },
     "metadata": {},
     "output_type": "display_data"
    },
    {
     "data": {
      "text/html": [
       "<style>\n",
       ".dl-inline {width: auto; margin:0; padding: 0}\n",
       ".dl-inline>dt, .dl-inline>dd {float: none; width: auto; display: inline-block}\n",
       ".dl-inline>dt::after {content: \":\\0020\"; padding-right: .5ex}\n",
       ".dl-inline>dt:not(:first-of-type) {padding-left: .5ex}\n",
       "</style><dl class=dl-inline><dt>ride_id</dt><dd>0</dd><dt>rideable_type</dt><dd>0</dd><dt>started_at</dt><dd>0</dd><dt>ended_at</dt><dd>0</dd><dt>start_station_name</dt><dd>0</dd><dt>start_station_id</dt><dd>31405</dd><dt>end_station_name</dt><dd>0</dd><dt>end_station_id</dt><dd>35787</dd><dt>start_lat</dt><dd>0</dd><dt>start_lng</dt><dd>0</dd><dt>end_lat</dt><dd>474</dd><dt>end_lng</dt><dd>474</dd><dt>member_casual</dt><dd>0</dd><dt>ride_length</dt><dd>0</dd><dt>day_of_week</dt><dd>0</dd></dl>\n"
      ],
      "text/latex": [
       "\\begin{description*}\n",
       "\\item[ride\\textbackslash{}\\_id] 0\n",
       "\\item[rideable\\textbackslash{}\\_type] 0\n",
       "\\item[started\\textbackslash{}\\_at] 0\n",
       "\\item[ended\\textbackslash{}\\_at] 0\n",
       "\\item[start\\textbackslash{}\\_station\\textbackslash{}\\_name] 0\n",
       "\\item[start\\textbackslash{}\\_station\\textbackslash{}\\_id] 31405\n",
       "\\item[end\\textbackslash{}\\_station\\textbackslash{}\\_name] 0\n",
       "\\item[end\\textbackslash{}\\_station\\textbackslash{}\\_id] 35787\n",
       "\\item[start\\textbackslash{}\\_lat] 0\n",
       "\\item[start\\textbackslash{}\\_lng] 0\n",
       "\\item[end\\textbackslash{}\\_lat] 474\n",
       "\\item[end\\textbackslash{}\\_lng] 474\n",
       "\\item[member\\textbackslash{}\\_casual] 0\n",
       "\\item[ride\\textbackslash{}\\_length] 0\n",
       "\\item[day\\textbackslash{}\\_of\\textbackslash{}\\_week] 0\n",
       "\\end{description*}\n"
      ],
      "text/markdown": [
       "ride_id\n",
       ":   0rideable_type\n",
       ":   0started_at\n",
       ":   0ended_at\n",
       ":   0start_station_name\n",
       ":   0start_station_id\n",
       ":   31405end_station_name\n",
       ":   0end_station_id\n",
       ":   35787start_lat\n",
       ":   0start_lng\n",
       ":   0end_lat\n",
       ":   474end_lng\n",
       ":   474member_casual\n",
       ":   0ride_length\n",
       ":   0day_of_week\n",
       ":   0\n",
       "\n"
      ],
      "text/plain": [
       "           ride_id      rideable_type         started_at           ended_at \n",
       "                 0                  0                  0                  0 \n",
       "start_station_name   start_station_id   end_station_name     end_station_id \n",
       "                 0              31405                  0              35787 \n",
       "         start_lat          start_lng            end_lat            end_lng \n",
       "                 0                  0                474                474 \n",
       "     member_casual        ride_length        day_of_week \n",
       "                 0                  0                  0 "
      ]
     },
     "metadata": {},
     "output_type": "display_data"
    },
    {
     "data": {
      "text/html": [
       "<style>\n",
       ".dl-inline {width: auto; margin:0; padding: 0}\n",
       ".dl-inline>dt, .dl-inline>dd {float: none; width: auto; display: inline-block}\n",
       ".dl-inline>dt::after {content: \":\\0020\"; padding-right: .5ex}\n",
       ".dl-inline>dt:not(:first-of-type) {padding-left: .5ex}\n",
       "</style><dl class=dl-inline><dt>ride_id</dt><dd>0</dd><dt>rideable_type</dt><dd>0</dd><dt>started_at</dt><dd>0</dd><dt>ended_at</dt><dd>0</dd><dt>start_station_name</dt><dd>0</dd><dt>start_station_id</dt><dd>24434</dd><dt>end_station_name</dt><dd>0</dd><dt>end_station_id</dt><dd>26826</dd><dt>start_lat</dt><dd>0</dd><dt>start_lng</dt><dd>0</dd><dt>end_lat</dt><dd>284</dd><dt>end_lng</dt><dd>284</dd><dt>member_casual</dt><dd>0</dd><dt>ride_length</dt><dd>0</dd><dt>day_of_week</dt><dd>0</dd></dl>\n"
      ],
      "text/latex": [
       "\\begin{description*}\n",
       "\\item[ride\\textbackslash{}\\_id] 0\n",
       "\\item[rideable\\textbackslash{}\\_type] 0\n",
       "\\item[started\\textbackslash{}\\_at] 0\n",
       "\\item[ended\\textbackslash{}\\_at] 0\n",
       "\\item[start\\textbackslash{}\\_station\\textbackslash{}\\_name] 0\n",
       "\\item[start\\textbackslash{}\\_station\\textbackslash{}\\_id] 24434\n",
       "\\item[end\\textbackslash{}\\_station\\textbackslash{}\\_name] 0\n",
       "\\item[end\\textbackslash{}\\_station\\textbackslash{}\\_id] 26826\n",
       "\\item[start\\textbackslash{}\\_lat] 0\n",
       "\\item[start\\textbackslash{}\\_lng] 0\n",
       "\\item[end\\textbackslash{}\\_lat] 284\n",
       "\\item[end\\textbackslash{}\\_lng] 284\n",
       "\\item[member\\textbackslash{}\\_casual] 0\n",
       "\\item[ride\\textbackslash{}\\_length] 0\n",
       "\\item[day\\textbackslash{}\\_of\\textbackslash{}\\_week] 0\n",
       "\\end{description*}\n"
      ],
      "text/markdown": [
       "ride_id\n",
       ":   0rideable_type\n",
       ":   0started_at\n",
       ":   0ended_at\n",
       ":   0start_station_name\n",
       ":   0start_station_id\n",
       ":   24434end_station_name\n",
       ":   0end_station_id\n",
       ":   26826start_lat\n",
       ":   0start_lng\n",
       ":   0end_lat\n",
       ":   284end_lng\n",
       ":   284member_casual\n",
       ":   0ride_length\n",
       ":   0day_of_week\n",
       ":   0\n",
       "\n"
      ],
      "text/plain": [
       "           ride_id      rideable_type         started_at           ended_at \n",
       "                 0                  0                  0                  0 \n",
       "start_station_name   start_station_id   end_station_name     end_station_id \n",
       "                 0              24434                  0              26826 \n",
       "         start_lat          start_lng            end_lat            end_lng \n",
       "                 0                  0                284                284 \n",
       "     member_casual        ride_length        day_of_week \n",
       "                 0                  0                  0 "
      ]
     },
     "metadata": {},
     "output_type": "display_data"
    },
    {
     "data": {
      "text/html": [
       "<style>\n",
       ".dl-inline {width: auto; margin:0; padding: 0}\n",
       ".dl-inline>dt, .dl-inline>dd {float: none; width: auto; display: inline-block}\n",
       ".dl-inline>dt::after {content: \":\\0020\"; padding-right: .5ex}\n",
       ".dl-inline>dt:not(:first-of-type) {padding-left: .5ex}\n",
       "</style><dl class=dl-inline><dt>ride_id</dt><dd>0</dd><dt>rideable_type</dt><dd>0</dd><dt>started_at</dt><dd>0</dd><dt>ended_at</dt><dd>0</dd><dt>start_station_name</dt><dd>0</dd><dt>start_station_id</dt><dd>0</dd><dt>end_station_name</dt><dd>0</dd><dt>end_station_id</dt><dd>0</dd><dt>start_lat</dt><dd>0</dd><dt>start_lng</dt><dd>0</dd><dt>end_lat</dt><dd>111</dd><dt>end_lng</dt><dd>111</dd><dt>member_casual</dt><dd>0</dd><dt>ride_length</dt><dd>0</dd><dt>day_of_week</dt><dd>0</dd></dl>\n"
      ],
      "text/latex": [
       "\\begin{description*}\n",
       "\\item[ride\\textbackslash{}\\_id] 0\n",
       "\\item[rideable\\textbackslash{}\\_type] 0\n",
       "\\item[started\\textbackslash{}\\_at] 0\n",
       "\\item[ended\\textbackslash{}\\_at] 0\n",
       "\\item[start\\textbackslash{}\\_station\\textbackslash{}\\_name] 0\n",
       "\\item[start\\textbackslash{}\\_station\\textbackslash{}\\_id] 0\n",
       "\\item[end\\textbackslash{}\\_station\\textbackslash{}\\_name] 0\n",
       "\\item[end\\textbackslash{}\\_station\\textbackslash{}\\_id] 0\n",
       "\\item[start\\textbackslash{}\\_lat] 0\n",
       "\\item[start\\textbackslash{}\\_lng] 0\n",
       "\\item[end\\textbackslash{}\\_lat] 111\n",
       "\\item[end\\textbackslash{}\\_lng] 111\n",
       "\\item[member\\textbackslash{}\\_casual] 0\n",
       "\\item[ride\\textbackslash{}\\_length] 0\n",
       "\\item[day\\textbackslash{}\\_of\\textbackslash{}\\_week] 0\n",
       "\\end{description*}\n"
      ],
      "text/markdown": [
       "ride_id\n",
       ":   0rideable_type\n",
       ":   0started_at\n",
       ":   0ended_at\n",
       ":   0start_station_name\n",
       ":   0start_station_id\n",
       ":   0end_station_name\n",
       ":   0end_station_id\n",
       ":   0start_lat\n",
       ":   0start_lng\n",
       ":   0end_lat\n",
       ":   111end_lng\n",
       ":   111member_casual\n",
       ":   0ride_length\n",
       ":   0day_of_week\n",
       ":   0\n",
       "\n"
      ],
      "text/plain": [
       "           ride_id      rideable_type         started_at           ended_at \n",
       "                 0                  0                  0                  0 \n",
       "start_station_name   start_station_id   end_station_name     end_station_id \n",
       "                 0                  0                  0                  0 \n",
       "         start_lat          start_lng            end_lat            end_lng \n",
       "                 0                  0                111                111 \n",
       "     member_casual        ride_length        day_of_week \n",
       "                 0                  0                  0 "
      ]
     },
     "metadata": {},
     "output_type": "display_data"
    }
   ],
   "source": [
    "colSums(is.na(jan21))\n",
    "colSums(is.na(feb21))\n",
    "colSums(is.na(mar21))\n",
    "colSums(is.na(apr20))\n",
    "colSums(is.na(may20))\n",
    "colSums(is.na(jun20))\n",
    "colSums(is.na(jul20))\n",
    "colSums(is.na(aug20))\n",
    "colSums(is.na(sep20))\n",
    "colSums(is.na(oct20))\n",
    "colSums(is.na(nov20))\n",
    "colSums(is.na(dec20))"
   ]
  },
  {
   "cell_type": "markdown",
   "id": "2b1a6114",
   "metadata": {},
   "source": [
    "since mainly we have null values in columns start_station_id or end_station_id I will check if the start_station_name\n",
    " is always the same as the start_station_id\n"
   ]
  },
  {
   "cell_type": "code",
   "execution_count": 12,
   "id": "f5420110",
   "metadata": {
    "scrolled": true,
    "vscode": {
     "languageId": "r"
    }
   },
   "outputs": [
    {
     "data": {
      "text/html": [
       "<table class=\"dataframe\">\n",
       "<caption>A tibble: 1260 × 2</caption>\n",
       "<thead>\n",
       "\t<tr><th scope=col>start_station_id</th><th scope=col>check</th></tr>\n",
       "\t<tr><th scope=col>&lt;chr&gt;</th><th scope=col>&lt;lgl&gt;</th></tr>\n",
       "</thead>\n",
       "<tbody>\n",
       "\t<tr><td>   </td><td> TRUE</td></tr>\n",
       "\t<tr><td>100</td><td> TRUE</td></tr>\n",
       "\t<tr><td>101</td><td> TRUE</td></tr>\n",
       "\t<tr><td>102</td><td> TRUE</td></tr>\n",
       "\t<tr><td>103</td><td> TRUE</td></tr>\n",
       "\t<tr><td>106</td><td> TRUE</td></tr>\n",
       "\t<tr><td>107</td><td> TRUE</td></tr>\n",
       "\t<tr><td>108</td><td> TRUE</td></tr>\n",
       "\t<tr><td>109</td><td> TRUE</td></tr>\n",
       "\t<tr><td>11 </td><td> TRUE</td></tr>\n",
       "\t<tr><td>110</td><td> TRUE</td></tr>\n",
       "\t<tr><td>111</td><td> TRUE</td></tr>\n",
       "\t<tr><td>112</td><td> TRUE</td></tr>\n",
       "\t<tr><td>113</td><td> TRUE</td></tr>\n",
       "\t<tr><td>114</td><td> TRUE</td></tr>\n",
       "\t<tr><td>115</td><td> TRUE</td></tr>\n",
       "\t<tr><td>116</td><td> TRUE</td></tr>\n",
       "\t<tr><td>117</td><td> TRUE</td></tr>\n",
       "\t<tr><td>118</td><td> TRUE</td></tr>\n",
       "\t<tr><td>119</td><td> TRUE</td></tr>\n",
       "\t<tr><td>12 </td><td> TRUE</td></tr>\n",
       "\t<tr><td>120</td><td>FALSE</td></tr>\n",
       "\t<tr><td>121</td><td> TRUE</td></tr>\n",
       "\t<tr><td>122</td><td> TRUE</td></tr>\n",
       "\t<tr><td>123</td><td> TRUE</td></tr>\n",
       "\t<tr><td>124</td><td> TRUE</td></tr>\n",
       "\t<tr><td>125</td><td> TRUE</td></tr>\n",
       "\t<tr><td>126</td><td> TRUE</td></tr>\n",
       "\t<tr><td>127</td><td> TRUE</td></tr>\n",
       "\t<tr><td>128</td><td> TRUE</td></tr>\n",
       "\t<tr><td>⋮</td><td>⋮</td></tr>\n",
       "\t<tr><td>TA1309000025</td><td> TRUE</td></tr>\n",
       "\t<tr><td>TA1309000026</td><td> TRUE</td></tr>\n",
       "\t<tr><td>TA1309000027</td><td> TRUE</td></tr>\n",
       "\t<tr><td>TA1309000029</td><td> TRUE</td></tr>\n",
       "\t<tr><td>TA1309000030</td><td> TRUE</td></tr>\n",
       "\t<tr><td>TA1309000032</td><td> TRUE</td></tr>\n",
       "\t<tr><td>TA1309000033</td><td> TRUE</td></tr>\n",
       "\t<tr><td>TA1309000035</td><td> TRUE</td></tr>\n",
       "\t<tr><td>TA1309000036</td><td> TRUE</td></tr>\n",
       "\t<tr><td>TA1309000037</td><td> TRUE</td></tr>\n",
       "\t<tr><td>TA1309000039</td><td> TRUE</td></tr>\n",
       "\t<tr><td>TA1309000041</td><td> TRUE</td></tr>\n",
       "\t<tr><td>TA1309000042</td><td> TRUE</td></tr>\n",
       "\t<tr><td>TA1309000043</td><td> TRUE</td></tr>\n",
       "\t<tr><td>TA1309000049</td><td> TRUE</td></tr>\n",
       "\t<tr><td>TA1309000050</td><td> TRUE</td></tr>\n",
       "\t<tr><td>TA1309000051</td><td> TRUE</td></tr>\n",
       "\t<tr><td>TA1309000053</td><td> TRUE</td></tr>\n",
       "\t<tr><td>TA1309000055</td><td> TRUE</td></tr>\n",
       "\t<tr><td>TA1309000058</td><td> TRUE</td></tr>\n",
       "\t<tr><td>TA1309000059</td><td> TRUE</td></tr>\n",
       "\t<tr><td>TA1309000061</td><td> TRUE</td></tr>\n",
       "\t<tr><td>TA1309000063</td><td> TRUE</td></tr>\n",
       "\t<tr><td>TA1309000064</td><td> TRUE</td></tr>\n",
       "\t<tr><td>TA1309000066</td><td> TRUE</td></tr>\n",
       "\t<tr><td>TA1309000067</td><td> TRUE</td></tr>\n",
       "\t<tr><td>WL-008      </td><td> TRUE</td></tr>\n",
       "\t<tr><td>WL-011      </td><td> TRUE</td></tr>\n",
       "\t<tr><td>WL-012      </td><td> TRUE</td></tr>\n",
       "\t<tr><td>NA          </td><td>FALSE</td></tr>\n",
       "</tbody>\n",
       "</table>\n"
      ],
      "text/latex": [
       "A tibble: 1260 × 2\n",
       "\\begin{tabular}{ll}\n",
       " start\\_station\\_id & check\\\\\n",
       " <chr> & <lgl>\\\\\n",
       "\\hline\n",
       "\t     &  TRUE\\\\\n",
       "\t 100 &  TRUE\\\\\n",
       "\t 101 &  TRUE\\\\\n",
       "\t 102 &  TRUE\\\\\n",
       "\t 103 &  TRUE\\\\\n",
       "\t 106 &  TRUE\\\\\n",
       "\t 107 &  TRUE\\\\\n",
       "\t 108 &  TRUE\\\\\n",
       "\t 109 &  TRUE\\\\\n",
       "\t 11  &  TRUE\\\\\n",
       "\t 110 &  TRUE\\\\\n",
       "\t 111 &  TRUE\\\\\n",
       "\t 112 &  TRUE\\\\\n",
       "\t 113 &  TRUE\\\\\n",
       "\t 114 &  TRUE\\\\\n",
       "\t 115 &  TRUE\\\\\n",
       "\t 116 &  TRUE\\\\\n",
       "\t 117 &  TRUE\\\\\n",
       "\t 118 &  TRUE\\\\\n",
       "\t 119 &  TRUE\\\\\n",
       "\t 12  &  TRUE\\\\\n",
       "\t 120 & FALSE\\\\\n",
       "\t 121 &  TRUE\\\\\n",
       "\t 122 &  TRUE\\\\\n",
       "\t 123 &  TRUE\\\\\n",
       "\t 124 &  TRUE\\\\\n",
       "\t 125 &  TRUE\\\\\n",
       "\t 126 &  TRUE\\\\\n",
       "\t 127 &  TRUE\\\\\n",
       "\t 128 &  TRUE\\\\\n",
       "\t ⋮ & ⋮\\\\\n",
       "\t TA1309000025 &  TRUE\\\\\n",
       "\t TA1309000026 &  TRUE\\\\\n",
       "\t TA1309000027 &  TRUE\\\\\n",
       "\t TA1309000029 &  TRUE\\\\\n",
       "\t TA1309000030 &  TRUE\\\\\n",
       "\t TA1309000032 &  TRUE\\\\\n",
       "\t TA1309000033 &  TRUE\\\\\n",
       "\t TA1309000035 &  TRUE\\\\\n",
       "\t TA1309000036 &  TRUE\\\\\n",
       "\t TA1309000037 &  TRUE\\\\\n",
       "\t TA1309000039 &  TRUE\\\\\n",
       "\t TA1309000041 &  TRUE\\\\\n",
       "\t TA1309000042 &  TRUE\\\\\n",
       "\t TA1309000043 &  TRUE\\\\\n",
       "\t TA1309000049 &  TRUE\\\\\n",
       "\t TA1309000050 &  TRUE\\\\\n",
       "\t TA1309000051 &  TRUE\\\\\n",
       "\t TA1309000053 &  TRUE\\\\\n",
       "\t TA1309000055 &  TRUE\\\\\n",
       "\t TA1309000058 &  TRUE\\\\\n",
       "\t TA1309000059 &  TRUE\\\\\n",
       "\t TA1309000061 &  TRUE\\\\\n",
       "\t TA1309000063 &  TRUE\\\\\n",
       "\t TA1309000064 &  TRUE\\\\\n",
       "\t TA1309000066 &  TRUE\\\\\n",
       "\t TA1309000067 &  TRUE\\\\\n",
       "\t WL-008       &  TRUE\\\\\n",
       "\t WL-011       &  TRUE\\\\\n",
       "\t WL-012       &  TRUE\\\\\n",
       "\t NA           & FALSE\\\\\n",
       "\\end{tabular}\n"
      ],
      "text/markdown": [
       "\n",
       "A tibble: 1260 × 2\n",
       "\n",
       "| start_station_id &lt;chr&gt; | check &lt;lgl&gt; |\n",
       "|---|---|\n",
       "| <!----> |  TRUE |\n",
       "| 100 |  TRUE |\n",
       "| 101 |  TRUE |\n",
       "| 102 |  TRUE |\n",
       "| 103 |  TRUE |\n",
       "| 106 |  TRUE |\n",
       "| 107 |  TRUE |\n",
       "| 108 |  TRUE |\n",
       "| 109 |  TRUE |\n",
       "| 11  |  TRUE |\n",
       "| 110 |  TRUE |\n",
       "| 111 |  TRUE |\n",
       "| 112 |  TRUE |\n",
       "| 113 |  TRUE |\n",
       "| 114 |  TRUE |\n",
       "| 115 |  TRUE |\n",
       "| 116 |  TRUE |\n",
       "| 117 |  TRUE |\n",
       "| 118 |  TRUE |\n",
       "| 119 |  TRUE |\n",
       "| 12  |  TRUE |\n",
       "| 120 | FALSE |\n",
       "| 121 |  TRUE |\n",
       "| 122 |  TRUE |\n",
       "| 123 |  TRUE |\n",
       "| 124 |  TRUE |\n",
       "| 125 |  TRUE |\n",
       "| 126 |  TRUE |\n",
       "| 127 |  TRUE |\n",
       "| 128 |  TRUE |\n",
       "| ⋮ | ⋮ |\n",
       "| TA1309000025 |  TRUE |\n",
       "| TA1309000026 |  TRUE |\n",
       "| TA1309000027 |  TRUE |\n",
       "| TA1309000029 |  TRUE |\n",
       "| TA1309000030 |  TRUE |\n",
       "| TA1309000032 |  TRUE |\n",
       "| TA1309000033 |  TRUE |\n",
       "| TA1309000035 |  TRUE |\n",
       "| TA1309000036 |  TRUE |\n",
       "| TA1309000037 |  TRUE |\n",
       "| TA1309000039 |  TRUE |\n",
       "| TA1309000041 |  TRUE |\n",
       "| TA1309000042 |  TRUE |\n",
       "| TA1309000043 |  TRUE |\n",
       "| TA1309000049 |  TRUE |\n",
       "| TA1309000050 |  TRUE |\n",
       "| TA1309000051 |  TRUE |\n",
       "| TA1309000053 |  TRUE |\n",
       "| TA1309000055 |  TRUE |\n",
       "| TA1309000058 |  TRUE |\n",
       "| TA1309000059 |  TRUE |\n",
       "| TA1309000061 |  TRUE |\n",
       "| TA1309000063 |  TRUE |\n",
       "| TA1309000064 |  TRUE |\n",
       "| TA1309000066 |  TRUE |\n",
       "| TA1309000067 |  TRUE |\n",
       "| WL-008       |  TRUE |\n",
       "| WL-011       |  TRUE |\n",
       "| WL-012       |  TRUE |\n",
       "| NA           | FALSE |\n",
       "\n"
      ],
      "text/plain": [
       "     start_station_id check\n",
       "1                      TRUE\n",
       "2    100               TRUE\n",
       "3    101               TRUE\n",
       "4    102               TRUE\n",
       "5    103               TRUE\n",
       "6    106               TRUE\n",
       "7    107               TRUE\n",
       "8    108               TRUE\n",
       "9    109               TRUE\n",
       "10   11                TRUE\n",
       "11   110               TRUE\n",
       "12   111               TRUE\n",
       "13   112               TRUE\n",
       "14   113               TRUE\n",
       "15   114               TRUE\n",
       "16   115               TRUE\n",
       "17   116               TRUE\n",
       "18   117               TRUE\n",
       "19   118               TRUE\n",
       "20   119               TRUE\n",
       "21   12                TRUE\n",
       "22   120              FALSE\n",
       "23   121               TRUE\n",
       "24   122               TRUE\n",
       "25   123               TRUE\n",
       "26   124               TRUE\n",
       "27   125               TRUE\n",
       "28   126               TRUE\n",
       "29   127               TRUE\n",
       "30   128               TRUE\n",
       "⋮    ⋮                ⋮    \n",
       "1231 TA1309000025      TRUE\n",
       "1232 TA1309000026      TRUE\n",
       "1233 TA1309000027      TRUE\n",
       "1234 TA1309000029      TRUE\n",
       "1235 TA1309000030      TRUE\n",
       "1236 TA1309000032      TRUE\n",
       "1237 TA1309000033      TRUE\n",
       "1238 TA1309000035      TRUE\n",
       "1239 TA1309000036      TRUE\n",
       "1240 TA1309000037      TRUE\n",
       "1241 TA1309000039      TRUE\n",
       "1242 TA1309000041      TRUE\n",
       "1243 TA1309000042      TRUE\n",
       "1244 TA1309000043      TRUE\n",
       "1245 TA1309000049      TRUE\n",
       "1246 TA1309000050      TRUE\n",
       "1247 TA1309000051      TRUE\n",
       "1248 TA1309000053      TRUE\n",
       "1249 TA1309000055      TRUE\n",
       "1250 TA1309000058      TRUE\n",
       "1251 TA1309000059      TRUE\n",
       "1252 TA1309000061      TRUE\n",
       "1253 TA1309000063      TRUE\n",
       "1254 TA1309000064      TRUE\n",
       "1255 TA1309000066      TRUE\n",
       "1256 TA1309000067      TRUE\n",
       "1257 WL-008            TRUE\n",
       "1258 WL-011            TRUE\n",
       "1259 WL-012            TRUE\n",
       "1260 NA               FALSE"
      ]
     },
     "metadata": {},
     "output_type": "display_data"
    }
   ],
   "source": [
    "# we are going to create a new columns \"check\" to get a true or false value.\n",
    "# If it is true  the 'start_station_name' within each group has only one distinct value.\n",
    "combined_data %>%\n",
    "    group_by(start_station_id) %>%\n",
    "    summarise(check = n_distinct(start_station_name) == 1)"
   ]
  },
  {
   "cell_type": "markdown",
   "id": "0b6bfc2c",
   "metadata": {},
   "source": [
    "Since it is true we can use the start_station_name instead of the start_station_id "
   ]
  },
  {
   "cell_type": "code",
   "execution_count": 13,
   "id": "f51aea2f",
   "metadata": {
    "vscode": {
     "languageId": "r"
    }
   },
   "outputs": [
    {
     "data": {
      "text/html": [
       "<style>\n",
       ".dl-inline {width: auto; margin:0; padding: 0}\n",
       ".dl-inline>dt, .dl-inline>dd {float: none; width: auto; display: inline-block}\n",
       ".dl-inline>dt::after {content: \":\\0020\"; padding-right: .5ex}\n",
       ".dl-inline>dt:not(:first-of-type) {padding-left: .5ex}\n",
       "</style><dl class=dl-inline><dt>ride_id</dt><dd>0</dd><dt>rideable_type</dt><dd>0</dd><dt>started_at</dt><dd>0</dd><dt>ended_at</dt><dd>0</dd><dt>start_station_name</dt><dd>0</dd><dt>start_station_id</dt><dd>83583</dd><dt>end_station_name</dt><dd>0</dd><dt>end_station_id</dt><dd>98104</dd><dt>start_lat</dt><dd>0</dd><dt>start_lng</dt><dd>0</dd><dt>end_lat</dt><dd>4738</dd><dt>end_lng</dt><dd>4738</dd><dt>member_casual</dt><dd>0</dd><dt>ride_length</dt><dd>0</dd><dt>day_of_week</dt><dd>0</dd></dl>\n"
      ],
      "text/latex": [
       "\\begin{description*}\n",
       "\\item[ride\\textbackslash{}\\_id] 0\n",
       "\\item[rideable\\textbackslash{}\\_type] 0\n",
       "\\item[started\\textbackslash{}\\_at] 0\n",
       "\\item[ended\\textbackslash{}\\_at] 0\n",
       "\\item[start\\textbackslash{}\\_station\\textbackslash{}\\_name] 0\n",
       "\\item[start\\textbackslash{}\\_station\\textbackslash{}\\_id] 83583\n",
       "\\item[end\\textbackslash{}\\_station\\textbackslash{}\\_name] 0\n",
       "\\item[end\\textbackslash{}\\_station\\textbackslash{}\\_id] 98104\n",
       "\\item[start\\textbackslash{}\\_lat] 0\n",
       "\\item[start\\textbackslash{}\\_lng] 0\n",
       "\\item[end\\textbackslash{}\\_lat] 4738\n",
       "\\item[end\\textbackslash{}\\_lng] 4738\n",
       "\\item[member\\textbackslash{}\\_casual] 0\n",
       "\\item[ride\\textbackslash{}\\_length] 0\n",
       "\\item[day\\textbackslash{}\\_of\\textbackslash{}\\_week] 0\n",
       "\\end{description*}\n"
      ],
      "text/markdown": [
       "ride_id\n",
       ":   0rideable_type\n",
       ":   0started_at\n",
       ":   0ended_at\n",
       ":   0start_station_name\n",
       ":   0start_station_id\n",
       ":   83583end_station_name\n",
       ":   0end_station_id\n",
       ":   98104start_lat\n",
       ":   0start_lng\n",
       ":   0end_lat\n",
       ":   4738end_lng\n",
       ":   4738member_casual\n",
       ":   0ride_length\n",
       ":   0day_of_week\n",
       ":   0\n",
       "\n"
      ],
      "text/plain": [
       "           ride_id      rideable_type         started_at           ended_at \n",
       "                 0                  0                  0                  0 \n",
       "start_station_name   start_station_id   end_station_name     end_station_id \n",
       "                 0              83583                  0              98104 \n",
       "         start_lat          start_lng            end_lat            end_lng \n",
       "                 0                  0               4738               4738 \n",
       "     member_casual        ride_length        day_of_week \n",
       "                 0                  0                  0 "
      ]
     },
     "metadata": {},
     "output_type": "display_data"
    }
   ],
   "source": [
    "colSums(is.na(combined_data))"
   ]
  },
  {
   "cell_type": "markdown",
   "id": "3b13d75b",
   "metadata": {},
   "source": [
    "Next I am going to check the data type of each columns using the str funcation (we also can check the data type in the above heac funcation)"
   ]
  },
  {
   "cell_type": "code",
   "execution_count": 14,
   "id": "0c50876a",
   "metadata": {
    "vscode": {
     "languageId": "r"
    }
   },
   "outputs": [
    {
     "name": "stdout",
     "output_type": "stream",
     "text": [
      "Classes 'data.table' and 'data.frame':\t3489748 obs. of  15 variables:\n",
      " $ ride_id           : chr  \"E19E6F1B8D4C42ED\" \"DC88F20C2C55F27F\" \"EC45C94683FE3F27\" \"4FA453A75AE377DB\" ...\n",
      " $ rideable_type     : chr  \"electric_bike\" \"electric_bike\" \"electric_bike\" \"electric_bike\" ...\n",
      " $ started_at        : chr  \"1/23/2021 16:14\" \"1/27/2021 18:43\" \"1/21/2021 22:35\" \"1/7/2021 13:31\" ...\n",
      " $ ended_at          : chr  \"1/23/2021 16:24\" \"1/27/2021 18:47\" \"1/21/2021 22:37\" \"1/7/2021 13:42\" ...\n",
      " $ start_station_name: chr  \"California Ave & Cortez St\" \"California Ave & Cortez St\" \"California Ave & Cortez St\" \"California Ave & Cortez St\" ...\n",
      " $ start_station_id  : chr  \"17660\" \"17660\" \"17660\" \"17660\" ...\n",
      " $ end_station_name  : chr  \"\" \"\" \"\" \"\" ...\n",
      " $ end_station_id    : chr  \"\" \"\" \"\" \"\" ...\n",
      " $ start_lat         : num  41.9 41.9 41.9 41.9 41.9 ...\n",
      " $ start_lng         : num  -87.7 -87.7 -87.7 -87.7 -87.7 ...\n",
      " $ end_lat           : num  41.9 41.9 41.9 41.9 41.9 ...\n",
      " $ end_lng           : num  -87.7 -87.7 -87.7 -87.7 -87.7 ...\n",
      " $ member_casual     : chr  \"member\" \"member\" \"member\" \"member\" ...\n",
      " $ ride_length       : chr  \"0:10:00\" \"0:04:00\" \"0:02:00\" \"0:11:00\" ...\n",
      " $ day_of_week       : int  7 4 5 5 7 7 2 5 7 1 ...\n",
      " - attr(*, \".internal.selfref\")=<externalptr> \n"
     ]
    }
   ],
   "source": [
    "str(combined_data)"
   ]
  },
  {
   "cell_type": "markdown",
   "id": "cb9c3cc7",
   "metadata": {},
   "source": [
    "I find a few issues with the data type. The started_at  and ended_at  are chr and not date so we will take care of it. alsao I will convert ride_length to difftime for easier calculation"
   ]
  },
  {
   "cell_type": "code",
   "execution_count": 15,
   "id": "bfcac94a",
   "metadata": {
    "vscode": {
     "languageId": "r"
    }
   },
   "outputs": [],
   "source": [
    "# Convert the 'started_at' and 'ended_at' columns to datetime\n",
    "combined_data$started_at <- as.POSIXct(combined_data$started_at, format = \"%m/%d/%Y %H:%M\")\n",
    "combined_data$ended_at <- as.POSIXct(combined_data$ended_at, format = \"%m/%d/%Y %H:%M\")\n",
    "# Convert the 'ride_length' column to a time duration object\n",
    "combined_data$ride_length <- as.difftime(combined_data$ride_length, format = \"%H:%M:%S\")"
   ]
  },
  {
   "cell_type": "code",
   "execution_count": 16,
   "id": "4f92ef5c",
   "metadata": {},
   "outputs": [
    {
     "name": "stdout",
     "output_type": "stream",
     "text": [
      "           ride_id      rideable_type         started_at           ended_at \n",
      "                 0                  0                  0                  0 \n",
      "start_station_name   start_station_id   end_station_name     end_station_id \n",
      "            122175             122801             143242             143703 \n",
      "         start_lat          start_lng            end_lat            end_lng \n",
      "                 0                  0               4738               4738 \n",
      "     member_casual        ride_length        day_of_week \n",
      "                 0                  0                  0 \n"
     ]
    }
   ],
   "source": [
    "print(null_or_empty_counts)"
   ]
  },
  {
   "cell_type": "code",
   "execution_count": 23,
   "id": "0540ec33",
   "metadata": {},
   "outputs": [
    {
     "data": {
      "text/html": [
       "<table class=\"dataframe\">\n",
       "<caption>A data.table: 5 × 15</caption>\n",
       "<thead>\n",
       "\t<tr><th scope=col>ride_id</th><th scope=col>rideable_type</th><th scope=col>started_at</th><th scope=col>ended_at</th><th scope=col>start_station_name</th><th scope=col>start_station_id</th><th scope=col>end_station_name</th><th scope=col>end_station_id</th><th scope=col>start_lat</th><th scope=col>start_lng</th><th scope=col>end_lat</th><th scope=col>end_lng</th><th scope=col>member_casual</th><th scope=col>ride_length</th><th scope=col>day_of_week</th></tr>\n",
       "\t<tr><th scope=col>&lt;chr&gt;</th><th scope=col>&lt;chr&gt;</th><th scope=col>&lt;dttm&gt;</th><th scope=col>&lt;dttm&gt;</th><th scope=col>&lt;chr&gt;</th><th scope=col>&lt;chr&gt;</th><th scope=col>&lt;chr&gt;</th><th scope=col>&lt;chr&gt;</th><th scope=col>&lt;dbl&gt;</th><th scope=col>&lt;dbl&gt;</th><th scope=col>&lt;dbl&gt;</th><th scope=col>&lt;dbl&gt;</th><th scope=col>&lt;chr&gt;</th><th scope=col>&lt;drtn&gt;</th><th scope=col>&lt;int&gt;</th></tr>\n",
       "</thead>\n",
       "<tbody>\n",
       "\t<tr><td>BE5E8EB4E7263A0B</td><td>electric_bike</td><td>2021-01-23 02:24:00</td><td>2021-01-23 02:24:00</td><td>California Ave &amp; Cortez St</td><td><span style=white-space:pre-wrap>17660       </span></td><td><span style=white-space:pre-wrap>                      </span></td><td><span style=white-space:pre-wrap>            </span></td><td>41.90033</td><td>-87.69670</td><td>41.90000</td><td>-87.70000</td><td>casual</td><td>0 secs</td><td>7</td></tr>\n",
       "\t<tr><td>A81933DA3A0AC0E4</td><td>classic_bike </td><td>2021-01-20 16:27:00</td><td>2021-01-20 16:27:00</td><td><span style=white-space:pre-wrap>State St &amp; Pearson St     </span></td><td>TA1307000061</td><td>State St &amp; Pearson St </td><td>TA1307000061</td><td>41.89745</td><td>-87.62872</td><td>41.89745</td><td>-87.62872</td><td>member</td><td>0 secs</td><td>4</td></tr>\n",
       "\t<tr><td>A04621CF9A6D8BE6</td><td>classic_bike </td><td>2021-01-17 10:50:00</td><td>2021-01-17 10:50:00</td><td><span style=white-space:pre-wrap>State St &amp; Pearson St     </span></td><td>TA1307000061</td><td>State St &amp; Pearson St </td><td>TA1307000061</td><td>41.89745</td><td>-87.62872</td><td>41.89745</td><td>-87.62872</td><td>member</td><td>0 secs</td><td>1</td></tr>\n",
       "\t<tr><td>90D1C194B36DC992</td><td>classic_bike </td><td>2021-01-07 15:00:00</td><td>2021-01-07 15:00:00</td><td><span style=white-space:pre-wrap>Clark St &amp; Lake St        </span></td><td>KA1503000012</td><td><span style=white-space:pre-wrap>Clark St &amp; Lake St    </span></td><td>KA1503000012</td><td>41.88602</td><td>-87.63088</td><td>41.88602</td><td>-87.63088</td><td>member</td><td>0 secs</td><td>5</td></tr>\n",
       "\t<tr><td>DFAB31C17F5808F6</td><td>classic_bike </td><td>2021-01-09 00:11:00</td><td>2021-01-09 00:11:00</td><td><span style=white-space:pre-wrap>Halsted St &amp; Willow St    </span></td><td>TA1307000166</td><td>Halsted St &amp; Willow St</td><td>TA1307000166</td><td>41.91387</td><td>-87.64875</td><td>41.91387</td><td>-87.64875</td><td>member</td><td>0 secs</td><td>7</td></tr>\n",
       "</tbody>\n",
       "</table>\n"
      ],
      "text/latex": [
       "A data.table: 5 × 15\n",
       "\\begin{tabular}{lllllllllllllll}\n",
       " ride\\_id & rideable\\_type & started\\_at & ended\\_at & start\\_station\\_name & start\\_station\\_id & end\\_station\\_name & end\\_station\\_id & start\\_lat & start\\_lng & end\\_lat & end\\_lng & member\\_casual & ride\\_length & day\\_of\\_week\\\\\n",
       " <chr> & <chr> & <dttm> & <dttm> & <chr> & <chr> & <chr> & <chr> & <dbl> & <dbl> & <dbl> & <dbl> & <chr> & <drtn> & <int>\\\\\n",
       "\\hline\n",
       "\t BE5E8EB4E7263A0B & electric\\_bike & 2021-01-23 02:24:00 & 2021-01-23 02:24:00 & California Ave \\& Cortez St & 17660        &                        &              & 41.90033 & -87.69670 & 41.90000 & -87.70000 & casual & 0 secs & 7\\\\\n",
       "\t A81933DA3A0AC0E4 & classic\\_bike  & 2021-01-20 16:27:00 & 2021-01-20 16:27:00 & State St \\& Pearson St      & TA1307000061 & State St \\& Pearson St  & TA1307000061 & 41.89745 & -87.62872 & 41.89745 & -87.62872 & member & 0 secs & 4\\\\\n",
       "\t A04621CF9A6D8BE6 & classic\\_bike  & 2021-01-17 10:50:00 & 2021-01-17 10:50:00 & State St \\& Pearson St      & TA1307000061 & State St \\& Pearson St  & TA1307000061 & 41.89745 & -87.62872 & 41.89745 & -87.62872 & member & 0 secs & 1\\\\\n",
       "\t 90D1C194B36DC992 & classic\\_bike  & 2021-01-07 15:00:00 & 2021-01-07 15:00:00 & Clark St \\& Lake St         & KA1503000012 & Clark St \\& Lake St     & KA1503000012 & 41.88602 & -87.63088 & 41.88602 & -87.63088 & member & 0 secs & 5\\\\\n",
       "\t DFAB31C17F5808F6 & classic\\_bike  & 2021-01-09 00:11:00 & 2021-01-09 00:11:00 & Halsted St \\& Willow St     & TA1307000166 & Halsted St \\& Willow St & TA1307000166 & 41.91387 & -87.64875 & 41.91387 & -87.64875 & member & 0 secs & 7\\\\\n",
       "\\end{tabular}\n"
      ],
      "text/markdown": [
       "\n",
       "A data.table: 5 × 15\n",
       "\n",
       "| ride_id &lt;chr&gt; | rideable_type &lt;chr&gt; | started_at &lt;dttm&gt; | ended_at &lt;dttm&gt; | start_station_name &lt;chr&gt; | start_station_id &lt;chr&gt; | end_station_name &lt;chr&gt; | end_station_id &lt;chr&gt; | start_lat &lt;dbl&gt; | start_lng &lt;dbl&gt; | end_lat &lt;dbl&gt; | end_lng &lt;dbl&gt; | member_casual &lt;chr&gt; | ride_length &lt;drtn&gt; | day_of_week &lt;int&gt; |\n",
       "|---|---|---|---|---|---|---|---|---|---|---|---|---|---|---|\n",
       "| BE5E8EB4E7263A0B | electric_bike | 2021-01-23 02:24:00 | 2021-01-23 02:24:00 | California Ave &amp; Cortez St | 17660        | <!----> | <!----> | 41.90033 | -87.69670 | 41.90000 | -87.70000 | casual | 0 secs | 7 |\n",
       "| A81933DA3A0AC0E4 | classic_bike  | 2021-01-20 16:27:00 | 2021-01-20 16:27:00 | State St &amp; Pearson St      | TA1307000061 | State St &amp; Pearson St  | TA1307000061 | 41.89745 | -87.62872 | 41.89745 | -87.62872 | member | 0 secs | 4 |\n",
       "| A04621CF9A6D8BE6 | classic_bike  | 2021-01-17 10:50:00 | 2021-01-17 10:50:00 | State St &amp; Pearson St      | TA1307000061 | State St &amp; Pearson St  | TA1307000061 | 41.89745 | -87.62872 | 41.89745 | -87.62872 | member | 0 secs | 1 |\n",
       "| 90D1C194B36DC992 | classic_bike  | 2021-01-07 15:00:00 | 2021-01-07 15:00:00 | Clark St &amp; Lake St         | KA1503000012 | Clark St &amp; Lake St     | KA1503000012 | 41.88602 | -87.63088 | 41.88602 | -87.63088 | member | 0 secs | 5 |\n",
       "| DFAB31C17F5808F6 | classic_bike  | 2021-01-09 00:11:00 | 2021-01-09 00:11:00 | Halsted St &amp; Willow St     | TA1307000166 | Halsted St &amp; Willow St | TA1307000166 | 41.91387 | -87.64875 | 41.91387 | -87.64875 | member | 0 secs | 7 |\n",
       "\n"
      ],
      "text/plain": [
       "  ride_id          rideable_type started_at          ended_at           \n",
       "1 BE5E8EB4E7263A0B electric_bike 2021-01-23 02:24:00 2021-01-23 02:24:00\n",
       "2 A81933DA3A0AC0E4 classic_bike  2021-01-20 16:27:00 2021-01-20 16:27:00\n",
       "3 A04621CF9A6D8BE6 classic_bike  2021-01-17 10:50:00 2021-01-17 10:50:00\n",
       "4 90D1C194B36DC992 classic_bike  2021-01-07 15:00:00 2021-01-07 15:00:00\n",
       "5 DFAB31C17F5808F6 classic_bike  2021-01-09 00:11:00 2021-01-09 00:11:00\n",
       "  start_station_name         start_station_id end_station_name      \n",
       "1 California Ave & Cortez St 17660                                  \n",
       "2 State St & Pearson St      TA1307000061     State St & Pearson St \n",
       "3 State St & Pearson St      TA1307000061     State St & Pearson St \n",
       "4 Clark St & Lake St         KA1503000012     Clark St & Lake St    \n",
       "5 Halsted St & Willow St     TA1307000166     Halsted St & Willow St\n",
       "  end_station_id start_lat start_lng end_lat  end_lng   member_casual\n",
       "1                41.90033  -87.69670 41.90000 -87.70000 casual       \n",
       "2 TA1307000061   41.89745  -87.62872 41.89745 -87.62872 member       \n",
       "3 TA1307000061   41.89745  -87.62872 41.89745 -87.62872 member       \n",
       "4 KA1503000012   41.88602  -87.63088 41.88602 -87.63088 member       \n",
       "5 TA1307000166   41.91387  -87.64875 41.91387 -87.64875 member       \n",
       "  ride_length day_of_week\n",
       "1 0 secs      7          \n",
       "2 0 secs      4          \n",
       "3 0 secs      1          \n",
       "4 0 secs      5          \n",
       "5 0 secs      7          "
      ]
     },
     "metadata": {},
     "output_type": "display_data"
    }
   ],
   "source": [
    "head(combined_data[order(combined_data$ride_length), ], 5)"
   ]
  },
  {
   "cell_type": "markdown",
   "id": "892c1831",
   "metadata": {},
   "source": [
    "next we will remove all the zeros from the ride_length because this "
   ]
  },
  {
   "cell_type": "code",
   "execution_count": 32,
   "id": "ae082463",
   "metadata": {},
   "outputs": [
    {
     "name": "stdout",
     "output_type": "stream",
     "text": [
      "[1] 38805\n"
     ]
    }
   ],
   "source": [
    "# Assuming 'combined_data' is your data frame\n",
    "zero_count <- sum(combined_data$ride_length == as.difftime(0, units = \"secs\"), na.rm = TRUE)\n",
    "\n",
    "# View the count of zeros\n",
    "print(zero_count)\n"
   ]
  },
  {
   "cell_type": "code",
   "execution_count": null,
   "id": "e425e8f3",
   "metadata": {},
   "outputs": [],
   "source": []
  },
  {
   "cell_type": "markdown",
   "id": "aea34ea4",
   "metadata": {},
   "source": [
    "Next we will dievid the users for two groups. member & "
   ]
  },
  {
   "cell_type": "code",
   "execution_count": null,
   "id": "0533f846",
   "metadata": {},
   "outputs": [],
   "source": []
  }
 ],
 "metadata": {
  "kernelspec": {
   "display_name": "R",
   "language": "R",
   "name": "ir"
  },
  "language_info": {
   "codemirror_mode": "r",
   "file_extension": ".r",
   "mimetype": "text/x-r-source",
   "name": "R",
   "pygments_lexer": "r",
   "version": "4.3.1"
  }
 },
 "nbformat": 4,
 "nbformat_minor": 5
}
